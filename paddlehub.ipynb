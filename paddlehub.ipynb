{
 "cells": [
  {
   "cell_type": "markdown",
   "metadata": {
    "collapsed": false
   },
   "source": [
    "# PaddleHub介绍与使用"
   ]
  },
  {
   "cell_type": "markdown",
   "metadata": {
    "collapsed": false
   },
   "source": [
    "## 1.查看Paddle、PaddleHub版本及模型信息"
   ]
  },
  {
   "cell_type": "code",
   "execution_count": 1,
   "metadata": {
    "collapsed": false
   },
   "outputs": [
    {
     "name": "stdout",
     "output_type": "stream",
     "text": [
      "2.0.1\n"
     ]
    }
   ],
   "source": [
    "import paddle\n",
    "print(paddle.__version__)"
   ]
  },
  {
   "cell_type": "code",
   "execution_count": 2,
   "metadata": {
    "collapsed": false
   },
   "outputs": [
    {
     "name": "stderr",
     "output_type": "stream",
     "text": [
      "/opt/conda/envs/python35-paddle120-env/lib/python3.7/site-packages/matplotlib/__init__.py:107: DeprecationWarning: Using or importing the ABCs from 'collections' instead of from 'collections.abc' is deprecated, and in 3.8 it will stop working\n",
      "  from collections import MutableMapping\n",
      "/opt/conda/envs/python35-paddle120-env/lib/python3.7/site-packages/matplotlib/rcsetup.py:20: DeprecationWarning: Using or importing the ABCs from 'collections' instead of from 'collections.abc' is deprecated, and in 3.8 it will stop working\n",
      "  from collections import Iterable, Mapping\n",
      "/opt/conda/envs/python35-paddle120-env/lib/python3.7/site-packages/matplotlib/colors.py:53: DeprecationWarning: Using or importing the ABCs from 'collections' instead of from 'collections.abc' is deprecated, and in 3.8 it will stop working\n",
      "  from collections import Sized\n"
     ]
    },
    {
     "name": "stdout",
     "output_type": "stream",
     "text": [
      "2.0.4\n"
     ]
    }
   ],
   "source": [
    "import paddlehub as hub\n",
    "print(hub.__version__)"
   ]
  },
  {
   "cell_type": "code",
   "execution_count": 3,
   "metadata": {
    "collapsed": false
   },
   "outputs": [
    {
     "name": "stdout",
     "output_type": "stream",
     "text": [
      "/opt/conda/envs/python35-paddle120-env/lib/python3.7/site-packages/setuptools/depends.py:2: DeprecationWarning: the imp module is deprecated in favour of importlib; see the module's documentation for alternative uses\n",
      "  import imp\n",
      "/opt/conda/envs/python35-paddle120-env/lib/python3.7/site-packages/matplotlib/__init__.py:107: DeprecationWarning: Using or importing the ABCs from 'collections' instead of from 'collections.abc' is deprecated, and in 3.8 it will stop working\n",
      "  from collections import MutableMapping\n",
      "/opt/conda/envs/python35-paddle120-env/lib/python3.7/site-packages/matplotlib/rcsetup.py:20: DeprecationWarning: Using or importing the ABCs from 'collections' instead of from 'collections.abc' is deprecated, and in 3.8 it will stop working\n",
      "  from collections import Iterable, Mapping\n",
      "/opt/conda/envs/python35-paddle120-env/lib/python3.7/site-packages/matplotlib/colors.py:53: DeprecationWarning: Using or importing the ABCs from 'collections' instead of from 'collections.abc' is deprecated, and in 3.8 it will stop working\n",
      "  from collections import Sized\n",
      "+-------------------------+--------------------------------------------------+\n",
      "|       ModuleName        |Path                                              |\n",
      "+-------------------------+--------------------------------------------------+\n",
      "\n"
     ]
    }
   ],
   "source": [
    "!hub list"
   ]
  },
  {
   "cell_type": "markdown",
   "metadata": {
    "collapsed": false
   },
   "source": [
    "## 2.打印THUCNews验证集前3条、后3条数据  "
   ]
  },
  {
   "cell_type": "code",
   "execution_count": null,
   "metadata": {
    "collapsed": false
   },
   "outputs": [
    {
     "name": "stdout",
     "output_type": "stream",
     "text": [
      "thu_news/\n",
      "thu_news/test.txt\n",
      "thu_news/valid.txt\n",
      "thu_news/train.txt\n"
     ]
    }
   ],
   "source": [
    "!tar -xzvf data/data16287/thu_news.tar.gz"
   ]
  },
  {
   "cell_type": "code",
   "execution_count": 4,
   "metadata": {
    "collapsed": false
   },
   "outputs": [],
   "source": [
    "DATA_DIR = \"/home/aistudio/thu_news/\""
   ]
  },
  {
   "cell_type": "code",
   "execution_count": 5,
   "metadata": {
    "collapsed": false
   },
   "outputs": [
    {
     "name": "stdout",
     "output_type": "stream",
     "text": [
      "text_a\tlabel\r\n",
      "直击特里勾手助小牛反超神鸟发威火箭仍处劣势　　新浪体育讯　北京时间4月16日消息，火箭今天迎来常规赛的收官战。客场挑战达拉斯小牛的比赛将关系到火箭队最终的排名，目前西部的竞争仍然非常激励。尤其是西部第二到第七的六支球队将在今天展开捉对厮杀的情况下，黄蜂、小牛、开拓者以及马刺都有可能是火箭队的下一个对手。以下为本场比赛的精彩瞬间——　　第四节比赛还剩下8分多钟，姚明重新回到场上，但是小牛队的霍里随后在右翼接队友传球后上演一记三分跳投，虽然身体动作已经变形，但是他仍然将球命中，随后基德在弧顶处的一记三分跳投帮助小牛终于将比分反超，火箭在进攻中直接打不开局面，而小牛更是利用特里空切后的一记勾手将比分反超至4分，包括库班在内的所有小牛现场球迷都站起来振臂高呼，而此时阿德尔曼还在场边低头深沉的思索中。　　比赛还剩下最后5分多钟，洛瑞带球突破中被小牛队员犯规，洛瑞来不及刹车让自己直接撞到了观众席上，右腿疼痛难忍的他脸都几乎变形，结果他两罚两中，火箭队还落后两分。随后，洛瑞将球直接传给此时已经回到场上的阿泰，野兽此时将球稳下，并没有急于进攻，随后他顺势将球塞给兰德里，神鸟利用对方站位空隙直接杀到篮下，上篮成功，火箭将比分终于追至80平。场上局面对于火箭来说绝对是不容有失。　　(sabrina)\t体育\r\n",
      "北京网购年消费额112亿元　　商报讯(记者吴文治)昨日，淘宝网发布的《2009-2010年度中国网购热门城市报告》显示，北京年度网购消费力达112.5亿元，与上海相差近62亿元，位列十大热门消费力城市第二位。此外，男性网购的消费金额高出女性，与“女性是网购主力军”的传统观念不符。　　淘宝公布的报告显示，中国网购消费力十大城市分别是上海、北京、深圳、杭州、广州、南京、苏州、天津、温州和宁波。主要集中在以江浙沪为主的长三角地区、以广深为主的珠三角地区和以北京为主的京津地区。北京年度网购112.5亿元的消费额，占国内城市网购消费额的5.6%。　　中国网购消费力十大城市的消费金额性别来源比例中，男性占比超过了女性。前者占比达到53.5%，后者则为46.5%。不过，在成交人数、成交笔数等关键数据上显示，女性消费者均高于男性。此外，在十大网购热门城市中，25岁-34岁的群体成为网购消费的主力军，占比达到62.49%。\t科技\r\n",
      "世界首辆飞行汽车成功试飞(附图)　　新快报讯据美国《时代杂志》等媒体19日报道，世界首辆飞行汽车本月初在美国实现了首飞，降落后只需按一个按钮就可将机翼折叠，驶上高速公路。　　据报道，美国特拉弗吉亚公司研发的这辆名为“特拉弗吉亚过渡”的飞行汽车的空中巡航时速可达185公里，它还可以在道路上行驶，可以安全地存放在车库里。公司称，汽车可以用一箱汽油在空中飞行643公里。与此同时，飞行汽车加油时只需驶入最近的加油站，向油箱里加入无铅汽油即可。人们先前也曾验证过其它飞行汽车，但特拉弗吉亚公司研发的飞行汽车是第一辆拥有可折叠机翼的、并能无缝隙地实现从空中降落到公路的汽车。不过，这辆车的门槛还有点高，车的价格达13.9万英镑（约合135万元人民币）。\t社会\r\n"
     ]
    }
   ],
   "source": [
    "!head -4 thu_news/valid.txt"
   ]
  },
  {
   "cell_type": "code",
   "execution_count": 6,
   "metadata": {
    "collapsed": false
   },
   "outputs": [
    {
     "name": "stdout",
     "output_type": "stream",
     "text": [
      "事业测试：你工作易受他人干扰吗(图)　　独家撰稿：苑椿　心理测试征稿启事 欢迎关注新浪星座微博　　办公室永远是个龙蛇混杂、藏龙卧虎的地方，你永远不知道一张张面具底下会是怎样的脸庞，你是否还傻傻的对别人的话听之任之，完全搞乱了自己工作的步调？还是笃定的坚守阵地，从未被谣言动摇分毫？赶紧来测测看吧！　　(本测试仅供娱乐，非专业心理指导。)\t星座\r\n",
      "趣味测试：你怎么红红火火过春节(图)　　独家撰稿：岚　心理测试征稿启事 欢迎关注新浪星座微博　　红红火火过大年啦，每年的此时你都会如何度过呢？是跟家人爱人在一起还是跟朋友兄弟外出欢聚呢？亦或背起行囊远离嘈杂，无论如何，总会有一种适合你的方式，赶紧来测测看吧！　　(本测试仅供娱乐，非专业心理指导。)\t星座\r\n",
      "人际测试：你的人际磁场强大吗(图)　　独家撰稿：大智若笨　心理测试征稿启事　　如何在草木皆兵的office里脱颖而出，最好的办法不是到处抱怨也不是埋头工作，而是要加强自己的磁场，让周围的人都被你所感染，如此有影响力，你难道还怕自己不能夺人眼球吗。　　独家撰稿：大智若笨　心理测试征稿启事　　如何在草木皆兵的office里脱颖而出，最好的办法不是到处抱怨也不是埋头工作，而是要加强自己的磁场，让周围的人都被你所感染，如此有影响力，你难道还怕自己不能夺人眼球吗。\t星座\r\n"
     ]
    }
   ],
   "source": [
    "!tail -3 thu_news/valid.txt"
   ]
  },
  {
   "cell_type": "markdown",
   "metadata": {
    "collapsed": false
   },
   "source": [
    "## 3.完整跑通基于PaddleHub的新闻文本分类任务"
   ]
  },
  {
   "cell_type": "markdown",
   "metadata": {
    "collapsed": false
   },
   "source": [
    "### 3.1处理数据\n",
    "\n",
    "paddlehub封住TextClassificationDataset是默认标签在前文本内容在后，所以要看下原始数据的顺序，如果需要调整，可以参考下述code\n",
    "```\n",
    "import pandas as pd\n",
    "df =  pd.read_table(\"thu_news/test.txt\")\n",
    "df[[\"text_a\", \"label\"]] = df[[\"label\", \"text_a\"]]\n",
    "df.to_csv('thu_news/test-1.csv', index=0, sep='\\t')\n",
    "```"
   ]
  },
  {
   "cell_type": "markdown",
   "metadata": {
    "collapsed": false
   },
   "source": [
    "### 3.2数据集加载"
   ]
  },
  {
   "cell_type": "code",
   "execution_count": 7,
   "metadata": {
    "collapsed": false
   },
   "outputs": [],
   "source": [
    "from paddlehub.datasets.base_nlp_dataset import TextClassificationDataset\n",
    "\n",
    "class MyDataset(TextClassificationDataset):\n",
    "    base_path = \"/home/aistudio/thu_news/\"\n",
    "    label_list = ['体育', '科技', '社会', '娱乐', '股票', '房产', '教育', '时政', '财经', '星座', '游戏', '家居', '彩票', '时尚']\n",
    "\n",
    "    def __init__(self, tokenizer, max_seq_len: int=256, mode:str='train'):\n",
    "        if mode == 'train':\n",
    "            data_file = 'train-1.csv'\n",
    "        elif mode == 'test':\n",
    "            data_file = 'test-1.csv'\n",
    "        else:\n",
    "            data_file = 'valid-1.csv'\n",
    "        \n",
    "        super().__init__(\n",
    "            base_path=self.base_path,\n",
    "            tokenizer=tokenizer,\n",
    "            max_seq_len=max_seq_len,\n",
    "            mode=mode,\n",
    "            data_file=data_file,\n",
    "            label_list=self.label_list,\n",
    "            is_file_with_header=True,\n",
    "        )\n",
    "\n"
   ]
  },
  {
   "cell_type": "markdown",
   "metadata": {
    "collapsed": false
   },
   "source": [
    "### 3.3模型加载"
   ]
  },
  {
   "cell_type": "code",
   "execution_count": 9,
   "metadata": {
    "collapsed": false
   },
   "outputs": [
    {
     "name": "stderr",
     "output_type": "stream",
     "text": [
      "2021-04-13 17:00:13,643 - INFO - Lock 140155320023440 acquired on /home/aistudio/.paddlehub/tmp/ernie\n",
      "[INFO 2021-04-13 17:00:13,643 filelock.py:274] Lock 140155320023440 acquired on /home/aistudio/.paddlehub/tmp/ernie\n"
     ]
    },
    {
     "name": "stdout",
     "output_type": "stream",
     "text": [
      "Download https://bj.bcebos.com/paddlehub/paddlehub_dev/ernie_2.0.2.tar.gz\n",
      "[##################################################] 100.00%\n",
      "Decompress /home/aistudio/.paddlehub/tmp/tmpdf8na9ij/ernie_2.0.2.tar.gz\n",
      "[##################################################] 100.00%\n"
     ]
    },
    {
     "name": "stderr",
     "output_type": "stream",
     "text": [
      "[2021-04-13 17:00:14,143] [    INFO] - Successfully installed ernie-2.0.2\n",
      "2021-04-13 17:00:14,146 - INFO - Lock 140155320023440 released on /home/aistudio/.paddlehub/tmp/ernie\n",
      "[INFO 2021-04-13 17:00:14,146 filelock.py:318] Lock 140155320023440 released on /home/aistudio/.paddlehub/tmp/ernie\n",
      "[2021-04-13 17:00:14,148] [    INFO] - Downloading https://paddlenlp.bj.bcebos.com/models/transformers/ernie/ernie_v1_chn_base.pdparams and saved to /home/aistudio/.paddlenlp/models/ernie-1.0\n",
      "[2021-04-13 17:00:14,150] [    INFO] - Downloading ernie_v1_chn_base.pdparams from https://paddlenlp.bj.bcebos.com/models/transformers/ernie/ernie_v1_chn_base.pdparams\n",
      "100%|██████████| 390123/390123 [00:06<00:00, 63316.17it/s]\n",
      "/opt/conda/envs/python35-paddle120-env/lib/python3.7/site-packages/paddle/fluid/dygraph/layers.py:1303: UserWarning: Skip loading for classifier.weight. classifier.weight is not found in the provided dict.\n",
      "  warnings.warn((\"Skip loading for {}. \".format(key) + str(err)))\n",
      "/opt/conda/envs/python35-paddle120-env/lib/python3.7/site-packages/paddle/fluid/dygraph/layers.py:1303: UserWarning: Skip loading for classifier.bias. classifier.bias is not found in the provided dict.\n",
      "  warnings.warn((\"Skip loading for {}. \".format(key) + str(err)))\n"
     ]
    }
   ],
   "source": [
    "model = hub.Module(name='ernie', version='2.0.2', task='seq-cls', num_classes=14)"
   ]
  },
  {
   "cell_type": "code",
   "execution_count": 10,
   "metadata": {
    "collapsed": false
   },
   "outputs": [
    {
     "name": "stderr",
     "output_type": "stream",
     "text": [
      "[2021-04-13 17:00:32,337] [    INFO] - Downloading vocab.txt from https://paddlenlp.bj.bcebos.com/models/transformers/ernie/vocab.txt\n",
      "100%|██████████| 89/89 [00:00<00:00, 4046.41it/s]\n"
     ]
    }
   ],
   "source": [
    "tokenizer = model.get_tokenizer()"
   ]
  },
  {
   "cell_type": "code",
   "execution_count": 11,
   "metadata": {
    "collapsed": false
   },
   "outputs": [],
   "source": [
    "train_dataset = MyDataset(tokenizer)\n",
    "valid_dataset = MyDataset(tokenizer, mode='valid')\n",
    "test_dataset = MyDataset(tokenizer, mode='test')\n"
   ]
  },
  {
   "cell_type": "markdown",
   "metadata": {
    "collapsed": false
   },
   "source": [
    "### 3.4迁移学习训练"
   ]
  },
  {
   "cell_type": "code",
   "execution_count": 12,
   "metadata": {
    "collapsed": false
   },
   "outputs": [
    {
     "name": "stderr",
     "output_type": "stream",
     "text": [
      "[2021-04-13 17:02:24,182] [ WARNING] - PaddleHub model checkpoint not found, start from scratch...\n"
     ]
    }
   ],
   "source": [
    "optimizer = paddle.optimizer.Adam(learning_rate=5e-5, parameters=model.parameters())\n",
    "trainer = hub.Trainer(model, optimizer, checkpoint_dir='./ckpt', use_gpu=True)"
   ]
  },
  {
   "cell_type": "code",
   "execution_count": 13,
   "metadata": {
    "collapsed": false
   },
   "outputs": [
    {
     "name": "stderr",
     "output_type": "stream",
     "text": [
      "[2021-04-13 17:02:32,782] [   TRAIN] - Epoch=1/3, Step=10/282 loss=2.3916 acc=0.2344 lr=0.000050 step/sec=2.19 | ETA 00:06:26\n",
      "[2021-04-13 17:02:37,159] [   TRAIN] - Epoch=1/3, Step=20/282 loss=1.7172 acc=0.5938 lr=0.000050 step/sec=2.28 | ETA 00:06:18\n",
      "[2021-04-13 17:02:41,531] [   TRAIN] - Epoch=1/3, Step=30/282 loss=1.2418 acc=0.7125 lr=0.000050 step/sec=2.29 | ETA 00:06:15\n",
      "[2021-04-13 17:02:45,940] [   TRAIN] - Epoch=1/3, Step=40/282 loss=0.8184 acc=0.8156 lr=0.000050 step/sec=2.27 | ETA 00:06:15\n",
      "[2021-04-13 17:02:50,354] [   TRAIN] - Epoch=1/3, Step=50/282 loss=0.5972 acc=0.8625 lr=0.000050 step/sec=2.27 | ETA 00:06:14\n",
      "[2021-04-13 17:02:54,763] [   TRAIN] - Epoch=1/3, Step=60/282 loss=0.7032 acc=0.8063 lr=0.000050 step/sec=2.27 | ETA 00:06:14\n",
      "[2021-04-13 17:02:59,181] [   TRAIN] - Epoch=1/3, Step=70/282 loss=0.5399 acc=0.8688 lr=0.000050 step/sec=2.26 | ETA 00:06:14\n",
      "[2021-04-13 17:03:03,599] [   TRAIN] - Epoch=1/3, Step=80/282 loss=0.4420 acc=0.9000 lr=0.000050 step/sec=2.26 | ETA 00:06:14\n",
      "[2021-04-13 17:03:08,049] [   TRAIN] - Epoch=1/3, Step=90/282 loss=0.3259 acc=0.9250 lr=0.000050 step/sec=2.25 | ETA 00:06:14\n",
      "[2021-04-13 17:03:12,459] [   TRAIN] - Epoch=1/3, Step=100/282 loss=0.3290 acc=0.9281 lr=0.000050 step/sec=2.27 | ETA 00:06:14\n",
      "[2021-04-13 17:03:16,896] [   TRAIN] - Epoch=1/3, Step=110/282 loss=0.2872 acc=0.9344 lr=0.000050 step/sec=2.25 | ETA 00:06:14\n",
      "[2021-04-13 17:03:21,320] [   TRAIN] - Epoch=1/3, Step=120/282 loss=0.3733 acc=0.9031 lr=0.000050 step/sec=2.26 | ETA 00:06:14\n",
      "[2021-04-13 17:03:25,739] [   TRAIN] - Epoch=1/3, Step=130/282 loss=0.2909 acc=0.9250 lr=0.000050 step/sec=2.26 | ETA 00:06:14\n",
      "[2021-04-13 17:03:30,165] [   TRAIN] - Epoch=1/3, Step=140/282 loss=0.1901 acc=0.9500 lr=0.000050 step/sec=2.26 | ETA 00:06:14\n",
      "[2021-04-13 17:03:34,596] [   TRAIN] - Epoch=1/3, Step=150/282 loss=0.2855 acc=0.9250 lr=0.000050 step/sec=2.26 | ETA 00:06:14\n",
      "[2021-04-13 17:03:39,061] [   TRAIN] - Epoch=1/3, Step=160/282 loss=0.2941 acc=0.9281 lr=0.000050 step/sec=2.24 | ETA 00:06:14\n",
      "[2021-04-13 17:03:43,508] [   TRAIN] - Epoch=1/3, Step=170/282 loss=0.2979 acc=0.9219 lr=0.000050 step/sec=2.25 | ETA 00:06:14\n",
      "[2021-04-13 17:03:47,959] [   TRAIN] - Epoch=1/3, Step=180/282 loss=0.2378 acc=0.9375 lr=0.000050 step/sec=2.25 | ETA 00:06:14\n",
      "[2021-04-13 17:03:52,401] [   TRAIN] - Epoch=1/3, Step=190/282 loss=0.3278 acc=0.9187 lr=0.000050 step/sec=2.25 | ETA 00:06:14\n",
      "[2021-04-13 17:03:56,861] [   TRAIN] - Epoch=1/3, Step=200/282 loss=0.2476 acc=0.9344 lr=0.000050 step/sec=2.24 | ETA 00:06:14\n",
      "[2021-04-13 17:04:01,276] [   TRAIN] - Epoch=1/3, Step=210/282 loss=0.3125 acc=0.9219 lr=0.000050 step/sec=2.26 | ETA 00:06:14\n",
      "[2021-04-13 17:04:05,681] [   TRAIN] - Epoch=1/3, Step=220/282 loss=0.2137 acc=0.9250 lr=0.000050 step/sec=2.27 | ETA 00:06:14\n",
      "[2021-04-13 17:04:10,092] [   TRAIN] - Epoch=1/3, Step=230/282 loss=0.2782 acc=0.9281 lr=0.000050 step/sec=2.27 | ETA 00:06:14\n",
      "[2021-04-13 17:04:14,508] [   TRAIN] - Epoch=1/3, Step=240/282 loss=0.2842 acc=0.9125 lr=0.000050 step/sec=2.26 | ETA 00:06:14\n",
      "[2021-04-13 17:04:18,932] [   TRAIN] - Epoch=1/3, Step=250/282 loss=0.3416 acc=0.8875 lr=0.000050 step/sec=2.26 | ETA 00:06:14\n",
      "[2021-04-13 17:04:23,370] [   TRAIN] - Epoch=1/3, Step=260/282 loss=0.2438 acc=0.9281 lr=0.000050 step/sec=2.25 | ETA 00:06:14\n",
      "[2021-04-13 17:04:27,798] [   TRAIN] - Epoch=1/3, Step=270/282 loss=0.2589 acc=0.9250 lr=0.000050 step/sec=2.26 | ETA 00:06:14\n",
      "[2021-04-13 17:04:32,215] [   TRAIN] - Epoch=1/3, Step=280/282 loss=0.2610 acc=0.9250 lr=0.000050 step/sec=2.26 | ETA 00:06:14\n",
      "[2021-04-13 17:04:39,608] [    EVAL] - Evaluation on validation dataset: \\ - Evaluation on validation dataset: | - Evaluation on validation dataset: / - Evaluation on validation dataset: - - Evaluation on validation dataset: \\ - Evaluation on validation dataset: | - Evaluation on validation dataset: / - Evaluation on validation dataset: - - Evaluation on validation dataset: \\ - Evaluation on validation dataset: | - Evaluation on validation dataset: / - Evaluation on validation dataset: - - Evaluation on validation dataset: \\ - Evaluation on validation dataset: | - Evaluation on validation dataset: / - Evaluation on validation dataset: - - Evaluation on validation dataset: \\ - Evaluation on validation dataset: | - Evaluation on validation dataset: / - Evaluation on validation dataset: - - Evaluation on validation dataset: \\ - Evaluation on validation dataset: | - Evaluation on validation dataset: / - Evaluation on validation dataset: - - Evaluation on validation dataset: \\ - Evaluation on validation dataset: | - Evaluation on validation dataset: / - Evaluation on validation dataset: - - Evaluation on validation dataset: \\ - Evaluation on validation dataset: | - Evaluation on validation dataset: / - Evaluation on validation dataset: - - Evaluation on validation dataset: \\ - Evaluation on validation dataset: | - Evaluation on validation dataset: / - Evaluation on validation dataset: - - Evaluation on validation dataset: \\ - Evaluation on validation dataset: | - Evaluation on validation dataset: / - Evaluation on validation dataset: - - Evaluation on validation dataset: \\ - Evaluation on validation dataset: | - Evaluation on validation dataset: / - Evaluation on validation dataset: - - Evaluation on validation dataset: \\ - Evaluation on validation dataset: | - Evaluation on validation dataset: / - Evaluation on validation dataset: - - Evaluation on validation dataset: \\ - Evaluation on validation dataset: | - Evaluation on validation dataset: / - Evaluation on validation dataset: - - Evaluation on validation dataset: \\ - Evaluation on validation dataset: | - Evaluation on validation dataset: / - Evaluation on validation dataset: - - Evaluation on validation dataset: \\ - Evaluation on validation dataset: | - Evaluation on validation dataset: / - Evaluation on validation dataset: - - Evaluation on validation dataset: \\ - Evaluation on validation dataset: | - Evaluation on validation dataset: / - Evaluation on validation dataset: - - Evaluation on validation dataset: \\ - Evaluation on validation dataset: | - [Evaluation result] avg_acc=0.8979\n",
      "[2021-04-13 17:04:52,362] [    EVAL] - Saving best model to ./ckpt/best_model [best acc=0.8979]\n",
      "[2021-04-13 17:04:52,365] [    INFO] - Saving model checkpoint to ./ckpt/epoch_1\n",
      "[2021-04-13 17:05:09,418] [   TRAIN] - Epoch=2/3, Step=10/282 loss=0.1812 acc=0.9563 lr=0.000050 step/sec=0.32 | ETA 00:07:47\n",
      "[2021-04-13 17:05:13,819] [   TRAIN] - Epoch=2/3, Step=20/282 loss=0.1294 acc=0.9750 lr=0.000050 step/sec=2.27 | ETA 00:07:43\n",
      "[2021-04-13 17:05:18,227] [   TRAIN] - Epoch=2/3, Step=30/282 loss=0.1188 acc=0.9750 lr=0.000050 step/sec=2.27 | ETA 00:07:41\n",
      "[2021-04-13 17:05:22,643] [   TRAIN] - Epoch=2/3, Step=40/282 loss=0.1641 acc=0.9437 lr=0.000050 step/sec=2.26 | ETA 00:07:38\n",
      "[2021-04-13 17:05:27,068] [   TRAIN] - Epoch=2/3, Step=50/282 loss=0.1559 acc=0.9719 lr=0.000050 step/sec=2.26 | ETA 00:07:35\n",
      "[2021-04-13 17:05:31,493] [   TRAIN] - Epoch=2/3, Step=60/282 loss=0.2403 acc=0.9313 lr=0.000050 step/sec=2.26 | ETA 00:07:33\n",
      "[2021-04-13 17:05:35,925] [   TRAIN] - Epoch=2/3, Step=70/282 loss=0.2430 acc=0.9250 lr=0.000050 step/sec=2.26 | ETA 00:07:31\n",
      "[2021-04-13 17:05:40,350] [   TRAIN] - Epoch=2/3, Step=80/282 loss=0.1885 acc=0.9313 lr=0.000050 step/sec=2.26 | ETA 00:07:29\n",
      "[2021-04-13 17:05:44,764] [   TRAIN] - Epoch=2/3, Step=90/282 loss=0.2005 acc=0.9500 lr=0.000050 step/sec=2.27 | ETA 00:07:27\n",
      "[2021-04-13 17:05:49,190] [   TRAIN] - Epoch=2/3, Step=100/282 loss=0.1522 acc=0.9656 lr=0.000050 step/sec=2.26 | ETA 00:07:25\n",
      "[2021-04-13 17:05:53,615] [   TRAIN] - Epoch=2/3, Step=110/282 loss=0.1670 acc=0.9469 lr=0.000050 step/sec=2.26 | ETA 00:07:23\n",
      "[2021-04-13 17:05:58,042] [   TRAIN] - Epoch=2/3, Step=120/282 loss=0.1944 acc=0.9469 lr=0.000050 step/sec=2.26 | ETA 00:07:21\n",
      "[2021-04-13 17:06:02,470] [   TRAIN] - Epoch=2/3, Step=130/282 loss=0.1303 acc=0.9688 lr=0.000050 step/sec=2.26 | ETA 00:07:19\n",
      "[2021-04-13 17:06:06,893] [   TRAIN] - Epoch=2/3, Step=140/282 loss=0.1527 acc=0.9594 lr=0.000050 step/sec=2.26 | ETA 00:07:18\n",
      "[2021-04-13 17:06:11,331] [   TRAIN] - Epoch=2/3, Step=150/282 loss=0.1664 acc=0.9500 lr=0.000050 step/sec=2.25 | ETA 00:07:16\n",
      "[2021-04-13 17:06:15,754] [   TRAIN] - Epoch=2/3, Step=160/282 loss=0.1452 acc=0.9594 lr=0.000050 step/sec=2.26 | ETA 00:07:15\n",
      "[2021-04-13 17:06:20,193] [   TRAIN] - Epoch=2/3, Step=170/282 loss=0.1348 acc=0.9469 lr=0.000050 step/sec=2.25 | ETA 00:07:14\n",
      "[2021-04-13 17:06:24,629] [   TRAIN] - Epoch=2/3, Step=180/282 loss=0.1833 acc=0.9594 lr=0.000050 step/sec=2.25 | ETA 00:07:12\n",
      "[2021-04-13 17:06:29,067] [   TRAIN] - Epoch=2/3, Step=190/282 loss=0.1795 acc=0.9500 lr=0.000050 step/sec=2.25 | ETA 00:07:11\n",
      "[2021-04-13 17:06:33,505] [   TRAIN] - Epoch=2/3, Step=200/282 loss=0.1651 acc=0.9469 lr=0.000050 step/sec=2.25 | ETA 00:07:10\n",
      "[2021-04-13 17:06:37,931] [   TRAIN] - Epoch=2/3, Step=210/282 loss=0.1390 acc=0.9688 lr=0.000050 step/sec=2.26 | ETA 00:07:09\n",
      "[2021-04-13 17:06:42,361] [   TRAIN] - Epoch=2/3, Step=220/282 loss=0.1652 acc=0.9469 lr=0.000050 step/sec=2.26 | ETA 00:07:08\n",
      "[2021-04-13 17:06:46,781] [   TRAIN] - Epoch=2/3, Step=230/282 loss=0.1516 acc=0.9594 lr=0.000050 step/sec=2.26 | ETA 00:07:07\n",
      "[2021-04-13 17:06:51,215] [   TRAIN] - Epoch=2/3, Step=240/282 loss=0.1085 acc=0.9750 lr=0.000050 step/sec=2.26 | ETA 00:07:06\n",
      "[2021-04-13 17:06:55,641] [   TRAIN] - Epoch=2/3, Step=250/282 loss=0.1295 acc=0.9688 lr=0.000050 step/sec=2.26 | ETA 00:07:05\n",
      "[2021-04-13 17:07:00,083] [   TRAIN] - Epoch=2/3, Step=260/282 loss=0.1862 acc=0.9563 lr=0.000050 step/sec=2.25 | ETA 00:07:04\n",
      "[2021-04-13 17:07:04,507] [   TRAIN] - Epoch=2/3, Step=270/282 loss=0.1646 acc=0.9437 lr=0.000050 step/sec=2.26 | ETA 00:07:03\n",
      "[2021-04-13 17:07:08,928] [   TRAIN] - Epoch=2/3, Step=280/282 loss=0.1813 acc=0.9437 lr=0.000050 step/sec=2.26 | ETA 00:07:02\n",
      "[2021-04-13 17:07:16,308] [    EVAL] - Evaluation on validation dataset: \\ - Evaluation on validation dataset: | - Evaluation on validation dataset: / - Evaluation on validation dataset: - - Evaluation on validation dataset: \\ - Evaluation on validation dataset: | - Evaluation on validation dataset: / - Evaluation on validation dataset: - - Evaluation on validation dataset: \\ - Evaluation on validation dataset: | - Evaluation on validation dataset: / - Evaluation on validation dataset: - - Evaluation on validation dataset: \\ - Evaluation on validation dataset: | - Evaluation on validation dataset: / - Evaluation on validation dataset: - - Evaluation on validation dataset: \\ - Evaluation on validation dataset: | - Evaluation on validation dataset: / - Evaluation on validation dataset: - - Evaluation on validation dataset: \\ - Evaluation on validation dataset: | - Evaluation on validation dataset: / - Evaluation on validation dataset: - - Evaluation on validation dataset: \\ - Evaluation on validation dataset: | - Evaluation on validation dataset: / - Evaluation on validation dataset: - - Evaluation on validation dataset: \\ - Evaluation on validation dataset: | - Evaluation on validation dataset: / - Evaluation on validation dataset: - - Evaluation on validation dataset: \\ - Evaluation on validation dataset: | - Evaluation on validation dataset: / - Evaluation on validation dataset: - - Evaluation on validation dataset: \\ - Evaluation on validation dataset: | - Evaluation on validation dataset: / - Evaluation on validation dataset: - - Evaluation on validation dataset: \\ - Evaluation on validation dataset: | - Evaluation on validation dataset: / - Evaluation on validation dataset: - - Evaluation on validation dataset: \\ - Evaluation on validation dataset: | - Evaluation on validation dataset: / - Evaluation on validation dataset: - - Evaluation on validation dataset: \\ - Evaluation on validation dataset: | - Evaluation on validation dataset: / - Evaluation on validation dataset: - - Evaluation on validation dataset: \\ - Evaluation on validation dataset: | - Evaluation on validation dataset: / - Evaluation on validation dataset: - - Evaluation on validation dataset: \\ - Evaluation on validation dataset: | - Evaluation on validation dataset: / - Evaluation on validation dataset: - - Evaluation on validation dataset: \\ - Evaluation on validation dataset: | - Evaluation on validation dataset: / - Evaluation on validation dataset: - - Evaluation on validation dataset: \\ - Evaluation on validation dataset: | - [Evaluation result] avg_acc=0.9071\n",
      "[2021-04-13 17:07:29,881] [    EVAL] - Saving best model to ./ckpt/best_model [best acc=0.9071]\n",
      "[2021-04-13 17:07:29,884] [    INFO] - Saving model checkpoint to ./ckpt/epoch_2\n",
      "[2021-04-13 17:07:46,841] [   TRAIN] - Epoch=3/3, Step=10/282 loss=0.1287 acc=0.9563 lr=0.000050 step/sec=0.32 | ETA 00:07:49\n",
      "[2021-04-13 17:07:51,248] [   TRAIN] - Epoch=3/3, Step=20/282 loss=0.1100 acc=0.9688 lr=0.000050 step/sec=2.27 | ETA 00:07:47\n",
      "[2021-04-13 17:07:55,668] [   TRAIN] - Epoch=3/3, Step=30/282 loss=0.0705 acc=0.9906 lr=0.000050 step/sec=2.26 | ETA 00:07:46\n",
      "[2021-04-13 17:08:00,126] [   TRAIN] - Epoch=3/3, Step=40/282 loss=0.0871 acc=0.9812 lr=0.000050 step/sec=2.24 | ETA 00:07:44\n",
      "[2021-04-13 17:08:04,582] [   TRAIN] - Epoch=3/3, Step=50/282 loss=0.0858 acc=0.9781 lr=0.000050 step/sec=2.24 | ETA 00:07:43\n",
      "[2021-04-13 17:08:09,043] [   TRAIN] - Epoch=3/3, Step=60/282 loss=0.0549 acc=0.9906 lr=0.000050 step/sec=2.24 | ETA 00:07:42\n",
      "[2021-04-13 17:08:13,511] [   TRAIN] - Epoch=3/3, Step=70/282 loss=0.0697 acc=0.9812 lr=0.000050 step/sec=2.24 | ETA 00:07:40\n",
      "[2021-04-13 17:08:18,022] [   TRAIN] - Epoch=3/3, Step=80/282 loss=0.0957 acc=0.9781 lr=0.000050 step/sec=2.22 | ETA 00:07:39\n",
      "[2021-04-13 17:08:22,484] [   TRAIN] - Epoch=3/3, Step=90/282 loss=0.0776 acc=0.9750 lr=0.000050 step/sec=2.24 | ETA 00:07:38\n",
      "[2021-04-13 17:08:26,947] [   TRAIN] - Epoch=3/3, Step=100/282 loss=0.0382 acc=0.9906 lr=0.000050 step/sec=2.24 | ETA 00:07:37\n",
      "[2021-04-13 17:08:31,413] [   TRAIN] - Epoch=3/3, Step=110/282 loss=0.1608 acc=0.9625 lr=0.000050 step/sec=2.24 | ETA 00:07:35\n",
      "[2021-04-13 17:08:35,886] [   TRAIN] - Epoch=3/3, Step=120/282 loss=0.0808 acc=0.9781 lr=0.000050 step/sec=2.24 | ETA 00:07:34\n",
      "[2021-04-13 17:08:40,348] [   TRAIN] - Epoch=3/3, Step=130/282 loss=0.0972 acc=0.9750 lr=0.000050 step/sec=2.24 | ETA 00:07:33\n",
      "[2021-04-13 17:08:44,803] [   TRAIN] - Epoch=3/3, Step=140/282 loss=0.0921 acc=0.9688 lr=0.000050 step/sec=2.24 | ETA 00:07:32\n",
      "[2021-04-13 17:08:49,255] [   TRAIN] - Epoch=3/3, Step=150/282 loss=0.0732 acc=0.9781 lr=0.000050 step/sec=2.25 | ETA 00:07:31\n",
      "[2021-04-13 17:08:53,712] [   TRAIN] - Epoch=3/3, Step=160/282 loss=0.0706 acc=0.9812 lr=0.000050 step/sec=2.24 | ETA 00:07:30\n",
      "[2021-04-13 17:08:58,174] [   TRAIN] - Epoch=3/3, Step=170/282 loss=0.0806 acc=0.9875 lr=0.000050 step/sec=2.24 | ETA 00:07:29\n",
      "[2021-04-13 17:09:02,643] [   TRAIN] - Epoch=3/3, Step=180/282 loss=0.1480 acc=0.9563 lr=0.000050 step/sec=2.24 | ETA 00:07:28\n",
      "[2021-04-13 17:09:07,100] [   TRAIN] - Epoch=3/3, Step=190/282 loss=0.1094 acc=0.9688 lr=0.000050 step/sec=2.24 | ETA 00:07:27\n",
      "[2021-04-13 17:09:11,558] [   TRAIN] - Epoch=3/3, Step=200/282 loss=0.0754 acc=0.9812 lr=0.000050 step/sec=2.24 | ETA 00:07:26\n",
      "[2021-04-13 17:09:16,015] [   TRAIN] - Epoch=3/3, Step=210/282 loss=0.0740 acc=0.9750 lr=0.000050 step/sec=2.24 | ETA 00:07:25\n",
      "[2021-04-13 17:09:20,509] [   TRAIN] - Epoch=3/3, Step=220/282 loss=0.0954 acc=0.9594 lr=0.000050 step/sec=2.22 | ETA 00:07:24\n",
      "[2021-04-13 17:09:25,011] [   TRAIN] - Epoch=3/3, Step=230/282 loss=0.1282 acc=0.9594 lr=0.000050 step/sec=2.22 | ETA 00:07:24\n",
      "[2021-04-13 17:09:29,483] [   TRAIN] - Epoch=3/3, Step=240/282 loss=0.1068 acc=0.9656 lr=0.000050 step/sec=2.24 | ETA 00:07:23\n",
      "[2021-04-13 17:09:33,964] [   TRAIN] - Epoch=3/3, Step=250/282 loss=0.0623 acc=0.9812 lr=0.000050 step/sec=2.23 | ETA 00:07:22\n",
      "[2021-04-13 17:09:38,434] [   TRAIN] - Epoch=3/3, Step=260/282 loss=0.0649 acc=0.9781 lr=0.000050 step/sec=2.24 | ETA 00:07:21\n",
      "[2021-04-13 17:09:42,909] [   TRAIN] - Epoch=3/3, Step=270/282 loss=0.1512 acc=0.9531 lr=0.000050 step/sec=2.23 | ETA 00:07:20\n",
      "[2021-04-13 17:09:47,374] [   TRAIN] - Epoch=3/3, Step=280/282 loss=0.1122 acc=0.9656 lr=0.000050 step/sec=2.24 | ETA 00:07:20\n",
      "[2021-04-13 17:09:54,952] [    EVAL] - Evaluation on validation dataset: \\ - Evaluation on validation dataset: | - Evaluation on validation dataset: / - Evaluation on validation dataset: - - Evaluation on validation dataset: \\ - Evaluation on validation dataset: | - Evaluation on validation dataset: / - Evaluation on validation dataset: - - Evaluation on validation dataset: \\ - Evaluation on validation dataset: | - Evaluation on validation dataset: / - Evaluation on validation dataset: - - Evaluation on validation dataset: \\ - Evaluation on validation dataset: | - Evaluation on validation dataset: / - Evaluation on validation dataset: - - Evaluation on validation dataset: \\ - Evaluation on validation dataset: | - Evaluation on validation dataset: / - Evaluation on validation dataset: - - Evaluation on validation dataset: \\ - Evaluation on validation dataset: | - Evaluation on validation dataset: / - Evaluation on validation dataset: - - Evaluation on validation dataset: \\ - Evaluation on validation dataset: | - Evaluation on validation dataset: / - Evaluation on validation dataset: - - Evaluation on validation dataset: \\ - Evaluation on validation dataset: | - Evaluation on validation dataset: / - Evaluation on validation dataset: - - Evaluation on validation dataset: \\ - Evaluation on validation dataset: | - Evaluation on validation dataset: / - Evaluation on validation dataset: - - Evaluation on validation dataset: \\ - Evaluation on validation dataset: | - Evaluation on validation dataset: / - Evaluation on validation dataset: - - Evaluation on validation dataset: \\ - Evaluation on validation dataset: | - Evaluation on validation dataset: / - Evaluation on validation dataset: - - Evaluation on validation dataset: \\ - Evaluation on validation dataset: | - Evaluation on validation dataset: / - Evaluation on validation dataset: - - Evaluation on validation dataset: \\ - Evaluation on validation dataset: | - Evaluation on validation dataset: / - Evaluation on validation dataset: - - Evaluation on validation dataset: \\ - Evaluation on validation dataset: | - Evaluation on validation dataset: / - Evaluation on validation dataset: - - Evaluation on validation dataset: \\ - Evaluation on validation dataset: | - Evaluation on validation dataset: / - Evaluation on validation dataset: - - Evaluation on validation dataset: \\ - Evaluation on validation dataset: | - Evaluation on validation dataset: / - Evaluation on validation dataset: - - Evaluation on validation dataset: \\ - Evaluation on validation dataset: | - Evaluation on validation dataset: / - Evaluation on validation dataset: - - [Evaluation result] avg_acc=0.9029\n",
      "[2021-04-13 17:09:54,957] [    INFO] - Saving model checkpoint to ./ckpt/epoch_3\n"
     ]
    }
   ],
   "source": [
    "trainer.train(train_dataset, epochs=3, batch_size=32, eval_dataset=valid_dataset, save_interval=1)"
   ]
  },
  {
   "cell_type": "code",
   "execution_count": 14,
   "metadata": {
    "collapsed": false
   },
   "outputs": [
    {
     "name": "stdout",
     "output_type": "stream",
     "text": [
      "/opt/conda/envs/python35-paddle120-env/lib/python3.7/site-packages/setuptools/depends.py:2: DeprecationWarning: the imp module is deprecated in favour of importlib; see the module's documentation for alternative uses\n",
      "  import imp\n",
      "/opt/conda/envs/python35-paddle120-env/lib/python3.7/site-packages/matplotlib/__init__.py:107: DeprecationWarning: Using or importing the ABCs from 'collections' instead of from 'collections.abc' is deprecated, and in 3.8 it will stop working\n",
      "  from collections import MutableMapping\n",
      "/opt/conda/envs/python35-paddle120-env/lib/python3.7/site-packages/matplotlib/rcsetup.py:20: DeprecationWarning: Using or importing the ABCs from 'collections' instead of from 'collections.abc' is deprecated, and in 3.8 it will stop working\n",
      "  from collections import Iterable, Mapping\n",
      "/opt/conda/envs/python35-paddle120-env/lib/python3.7/site-packages/matplotlib/colors.py:53: DeprecationWarning: Using or importing the ABCs from 'collections' instead of from 'collections.abc' is deprecated, and in 3.8 it will stop working\n",
      "  from collections import Sized\n",
      "+-------------------------+--------------------------------------------------+\n",
      "|       ModuleName        |Path                                              |\n",
      "+-------------------------+--------------------------------------------------+\n",
      "|          ernie          |/home/aistudio/.paddlehub/modules/ernie           |\n",
      "+-------------------------+--------------------------------------------------+\n",
      "\n"
     ]
    }
   ],
   "source": [
    "!hub list"
   ]
  },
  {
   "cell_type": "markdown",
   "metadata": {
    "collapsed": false
   },
   "source": [
    "### 3.5预测"
   ]
  },
  {
   "cell_type": "code",
   "execution_count": 15,
   "metadata": {
    "collapsed": false
   },
   "outputs": [
    {
     "name": "stderr",
     "output_type": "stream",
     "text": [
      "[2021-04-13 17:12:28,374] [    INFO] - Already cached /home/aistudio/.paddlenlp/models/ernie-1.0/ernie_v1_chn_base.pdparams\n",
      "/opt/conda/envs/python35-paddle120-env/lib/python3.7/site-packages/paddle/fluid/dygraph/layers.py:1303: UserWarning: Skip loading for classifier.weight. classifier.weight is not found in the provided dict.\n",
      "  warnings.warn((\"Skip loading for {}. \".format(key) + str(err)))\n",
      "/opt/conda/envs/python35-paddle120-env/lib/python3.7/site-packages/paddle/fluid/dygraph/layers.py:1303: UserWarning: Skip loading for classifier.bias. classifier.bias is not found in the provided dict.\n",
      "  warnings.warn((\"Skip loading for {}. \".format(key) + str(err)))\n",
      "[2021-04-13 17:12:33,319] [    INFO] - Loaded parameters from /home/aistudio/ckpt/best_model/model.pdparams\n",
      "[2021-04-13 17:12:33,451] [    INFO] - Found /home/aistudio/.paddlenlp/models/ernie-1.0/vocab.txt\n"
     ]
    },
    {
     "name": "stdout",
     "output_type": "stream",
     "text": [
      "Data: 昌平京基鹭府10月29日推别墅1200万套起享97折　　新浪房产讯(编辑郭彪)京基鹭府(论坛相册户型样板间点评地图搜索)售楼处位于昌平区京承高速北七家出口向西南公里路南。项目预计10月29日开盘，总价1200万元/套起，2012年年底入住。待售户型为联排户型面积为410-522平方米，独栋户型面积为938平方米，双拼户型面积为522平方米。　　京基鹭府项目位于昌平定泗路与东北路交界处。项目周边配套齐全，幼儿园：伊顿双语幼儿园、温莎双语幼儿园；中学：北师大亚太实验学校、潞河中学(北京市重点)；大学：王府语言学校、北京邮电大学、现代音乐学院；医院：王府中西医结合医院(三级甲等)、潞河医院、解放军263医院、安贞医院昌平分院；购物：龙德广场、中联万家商厦、世纪华联超市、瑰宝购物中心、家乐福超市；酒店：拉斐特城堡、鲍鱼岛；休闲娱乐设施：九华山庄、温都温泉度假村、小汤山疗养院、龙脉温泉度假村、小汤山文化广场、皇港高尔夫、高地高尔夫、北鸿高尔夫球场；银行：工商银行、建设银行、中国银行、北京农村商业银行；邮局：中国邮政储蓄；其它：北七家建材城、百安居建材超市、北七家镇武装部、北京宏翔鸿企业孵化基地等，享受便捷生活。 \t Lable: 房产\n",
      "Data: 尽管官方到今天也没有公布《使命召唤：现代战争2》的游戏详情，但《使命召唤：现代战争2》首部包含游戏画面的影片终于现身。虽然影片仅有短短不到20秒，但影片最后承诺大家将于美国时间5月24日NBA职业篮球东区决赛时将会揭露更多的游戏内容。　　这部只有18秒的广告片闪现了9个镜头，能够辨识的场景有直升机飞向海岛军事工事，有飞机场争夺战，有潜艇和水下工兵，有冰上乘具，以及其他的一些镜头。整体来看《现代战争2》很大可能仍旧与俄罗斯有关。　　片尾有一则预告：“May24th，EasternConferenceFinals”，这是什么？这是说当前美国NBA联赛东部总决赛的日期。原来这部视频是NBA季后赛奥兰多魔术对波士顿凯尔特人队时，TNT电视台播放的广告。 \t Lable: 游戏\n",
      "Data: 罗马锋王竟公然挑战两大旗帜拉涅利的球队到底错在哪　　记者张恺报道主场一球小胜副班长巴里无可吹捧，罗马占优也纯属正常，倒是托蒂罚失点球和前两号门将先后受伤(多尼以三号身份出场)更让人揪心。阵容规模扩大，反而表现不如上赛季，缺乏一流强队的色彩，这是所有球迷对罗马的印象。　　拉涅利说：“去年我们带着嫉妒之心看国米，今年我们也有了和国米同等的超级阵容，许多教练都想有罗马的球员。阵容广了，寻找队内平衡就难了，某些时段球员的互相排斥和跟从前相比的落差都正常。有好的一面，也有不好的一面，所幸，我们一直在说一支伟大的罗马，必胜的信念和够级别的阵容，我们有了。”拉涅利的总结由近一阶段困扰罗马的队内摩擦、个别球员闹意见要走人而发，本赛季技术层面强化的罗马一直没有上赛季反扑的面貌，内部变化值得球迷关注。 \t Lable: 体育\n",
      "Data: 新总督致力提高加拿大公立教育质量　　滑铁卢大学校长约翰斯顿先生于10月1日担任加拿大总督职务。约翰斯顿先生还曾任麦吉尔大学长，并曾在多伦多大学、女王大学和西安大略大学担任教学职位。　　约翰斯顿先生在就职演说中表示，要将加拿大建设成为一个“聪明与关爱的国度”。为实现这一目标，他提出三个支柱：支持并关爱家庭、儿童；鼓励学习与创造；提倡慈善和志愿者精神。他尤其强调要关爱并尊重教师，并通过公立教育使每个人的才智得到充分发展。 \t Lable: 教育\n"
     ]
    }
   ],
   "source": [
    "data = [\n",
    "    # 房产\n",
    "    [\"昌平京基鹭府10月29日推别墅1200万套起享97折　　新浪房产讯(编辑郭彪)京基鹭府(论坛相册户型样板间点评地图搜索)售楼处位于昌平区京承高速北七家出口向西南公里路南。项目预计10月29日开盘，总价1200万元/套起，2012年年底入住。待售户型为联排户型面积为410-522平方米，独栋户型面积为938平方米，双拼户型面积为522平方米。　　京基鹭府项目位于昌平定泗路与东北路交界处。项目周边配套齐全，幼儿园：伊顿双语幼儿园、温莎双语幼儿园；中学：北师大亚太实验学校、潞河中学(北京市重点)；大学：王府语言学校、北京邮电大学、现代音乐学院；医院：王府中西医结合医院(三级甲等)、潞河医院、解放军263医院、安贞医院昌平分院；购物：龙德广场、中联万家商厦、世纪华联超市、瑰宝购物中心、家乐福超市；酒店：拉斐特城堡、鲍鱼岛；休闲娱乐设施：九华山庄、温都温泉度假村、小汤山疗养院、龙脉温泉度假村、小汤山文化广场、皇港高尔夫、高地高尔夫、北鸿高尔夫球场；银行：工商银行、建设银行、中国银行、北京农村商业银行；邮局：中国邮政储蓄；其它：北七家建材城、百安居建材超市、北七家镇武装部、北京宏翔鸿企业孵化基地等，享受便捷生活。\"],\n",
    "    # 游戏\n",
    "    [\"尽管官方到今天也没有公布《使命召唤：现代战争2》的游戏详情，但《使命召唤：现代战争2》首部包含游戏画面的影片终于现身。虽然影片仅有短短不到20秒，但影片最后承诺大家将于美国时间5月24日NBA职业篮球东区决赛时将会揭露更多的游戏内容。　　这部只有18秒的广告片闪现了9个镜头，能够辨识的场景有直升机飞向海岛军事工事，有飞机场争夺战，有潜艇和水下工兵，有冰上乘具，以及其他的一些镜头。整体来看《现代战争2》很大可能仍旧与俄罗斯有关。　　片尾有一则预告：“May24th，EasternConferenceFinals”，这是什么？这是说当前美国NBA联赛东部总决赛的日期。原来这部视频是NBA季后赛奥兰多魔术对波士顿凯尔特人队时，TNT电视台播放的广告。\"],\n",
    "    # 体育\n",
    "    [\"罗马锋王竟公然挑战两大旗帜拉涅利的球队到底错在哪　　记者张恺报道主场一球小胜副班长巴里无可吹捧，罗马占优也纯属正常，倒是托蒂罚失点球和前两号门将先后受伤(多尼以三号身份出场)更让人揪心。阵容规模扩大，反而表现不如上赛季，缺乏一流强队的色彩，这是所有球迷对罗马的印象。　　拉涅利说：“去年我们带着嫉妒之心看国米，今年我们也有了和国米同等的超级阵容，许多教练都想有罗马的球员。阵容广了，寻找队内平衡就难了，某些时段球员的互相排斥和跟从前相比的落差都正常。有好的一面，也有不好的一面，所幸，我们一直在说一支伟大的罗马，必胜的信念和够级别的阵容，我们有了。”拉涅利的总结由近一阶段困扰罗马的队内摩擦、个别球员闹意见要走人而发，本赛季技术层面强化的罗马一直没有上赛季反扑的面貌，内部变化值得球迷关注。\"],\n",
    "    # 教育\n",
    "    [\"新总督致力提高加拿大公立教育质量　　滑铁卢大学校长约翰斯顿先生于10月1日担任加拿大总督职务。约翰斯顿先生还曾任麦吉尔大学长，并曾在多伦多大学、女王大学和西安大略大学担任教学职位。　　约翰斯顿先生在就职演说中表示，要将加拿大建设成为一个“聪明与关爱的国度”。为实现这一目标，他提出三个支柱：支持并关爱家庭、儿童；鼓励学习与创造；提倡慈善和志愿者精神。他尤其强调要关爱并尊重教师，并通过公立教育使每个人的才智得到充分发展。\"]\n",
    "]\n",
    "\n",
    "label_list=['体育', '科技', '社会', '娱乐', '股票', '房产', '教育', '时政', '财经', '星座', '游戏', '家居', '彩票', '时尚']\n",
    "label_map = { \n",
    "    idx: label_text for idx, label_text in enumerate(label_list)\n",
    "}\n",
    "\n",
    "model = hub.Module(\n",
    "    name='ernie',\n",
    "    task='seq-cls',\n",
    "    load_checkpoint='./ckpt/best_model/model.pdparams',\n",
    "    label_map=label_map)\n",
    "results = model.predict(data, max_seq_len=128, batch_size=1, use_gpu=False)\n",
    "for idx, text in enumerate(data):\n",
    "    print('Data: {} \\t Lable: {}'.format(text[0], results[idx]))"
   ]
  },
  {
   "cell_type": "code",
   "execution_count": null,
   "metadata": {
    "collapsed": false
   },
   "outputs": [],
   "source": []
  },
  {
   "cell_type": "code",
   "execution_count": null,
   "metadata": {
    "collapsed": false
   },
   "outputs": [],
   "source": []
  },
  {
   "cell_type": "code",
   "execution_count": null,
   "metadata": {
    "collapsed": false
   },
   "outputs": [],
   "source": []
  },
  {
   "cell_type": "code",
   "execution_count": null,
   "metadata": {
    "collapsed": false
   },
   "outputs": [],
   "source": []
  },
  {
   "cell_type": "code",
   "execution_count": null,
   "metadata": {
    "collapsed": false
   },
   "outputs": [],
   "source": []
  },
  {
   "cell_type": "code",
   "execution_count": null,
   "metadata": {
    "collapsed": false
   },
   "outputs": [],
   "source": []
  },
  {
   "cell_type": "code",
   "execution_count": null,
   "metadata": {
    "collapsed": false
   },
   "outputs": [],
   "source": []
  }
 ],
 "metadata": {
  "kernelspec": {
   "display_name": "PaddlePaddle 2.0.0b0 (Python 3.5)",
   "language": "python",
   "name": "py35-paddle1.2.0"
  },
  "language_info": {
   "codemirror_mode": {
    "name": "ipython",
    "version": 3
   },
   "file_extension": ".py",
   "mimetype": "text/x-python",
   "name": "python",
   "nbconvert_exporter": "python",
   "pygments_lexer": "ipython3",
   "version": "3.7.4"
  }
 },
 "nbformat": 4,
 "nbformat_minor": 1
}
